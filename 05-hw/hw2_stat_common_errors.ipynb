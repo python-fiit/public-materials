{
 "cells": [
  {
   "cell_type": "markdown",
   "id": "after-winner",
   "metadata": {},
   "source": [
    "## Общие замечания\n",
    "* если используете regex'ы - используйте их до конца, в том числе группы в них чтобы вытаскивать конкретно имя\n",
    "* стоит использовать `defaultdict`/`Counter`'ы из модуля `collections` где уместно, вместо проверки наличия ключа в словаре"
   ]
  },
  {
   "cell_type": "markdown",
   "id": "dependent-geometry",
   "metadata": {},
   "source": [
    "### Проверку на имя стоит сделать без \"вшития\" всех имён и в отдельной ф-ии\n",
    "\n",
    "Без этого получалось, что `make_stat()` слишком большой и сложный (в том числе у него больше одной \"ответственности\")"
   ]
  },
  {
   "cell_type": "code",
   "execution_count": null,
   "id": "hourly-discount",
   "metadata": {},
   "outputs": [],
   "source": [
    "def get_sex(name):\n",
    "    # на самом деле нужна чуть более эвристика с несколькими исключениями\n",
    "    if name[-1] in {'a', 'я'}:\n",
    "        return 'female'\n",
    "    return 'male'"
   ]
  },
  {
   "cell_type": "code",
   "execution_count": null,
   "id": "desirable-messenger",
   "metadata": {},
   "outputs": [],
   "source": [
    "name = 'Алёна'\n",
    "\n",
    "# Здесь же, напоминаю что вместо\n",
    "(name == 'алиса') or (name == 'вася') or (name == 'петя') or (name == 'алёна')\n",
    "\n",
    "# Можно писать так:\n",
    "name in {'алиса', 'вася', 'петя', 'алёна'}"
   ]
  },
  {
   "cell_type": "code",
   "execution_count": null,
   "id": "fossil-desktop",
   "metadata": {},
   "outputs": [],
   "source": [
    "# и если уж проверяете имена, то лучше привести их в один регистр\n",
    "name.casefold() in {'алиса', 'вася', 'петя', 'алёна'}\n",
    "\n",
    "# обратная проверка the right way, заметье что not можно написать перед in,\n",
    "# а не только сделать отрицание всего выражения\n",
    "name.casefold() not in {'алиса', 'вася', 'петя', 'алёна'}"
   ]
  },
  {
   "cell_type": "markdown",
   "id": "mature-period",
   "metadata": {},
   "source": [
    "### Списки, словари, ключи"
   ]
  },
  {
   "cell_type": "code",
   "execution_count": null,
   "id": "heard-eligibility",
   "metadata": {},
   "outputs": [],
   "source": [
    "# создать пустые объекты\n",
    "# not pythonic\n",
    "empty_dict = dict()\n",
    "empty_list = list()\n",
    "\n",
    "# pythonic\n",
    "empty_dict = {}\n",
    "empty_list = []"
   ]
  },
  {
   "cell_type": "code",
   "execution_count": null,
   "id": "communist-validity",
   "metadata": {},
   "outputs": [],
   "source": [
    "# Как пройтись элементам списка?\n",
    "my_list = [1, 3, 4, 7]\n",
    "\n",
    "# bad\n",
    "for i in range(len(my_list)):\n",
    "    print(my_list[i])\n",
    "    \n",
    "# good\n",
    "for el in my_list:\n",
    "    print(el)\n",
    "    \n",
    "# что если нужен индекс? Можно делать так:\n",
    "for i, el in enumerate(my_list):\n",
    "    print(i, el)"
   ]
  },
  {
   "cell_type": "markdown",
   "id": "endangered-chair",
   "metadata": {},
   "source": [
    "`for` бежит по элементам любого итерируемого (об этом в 5ой лекции) объекта.\n",
    "Можно например бежать и по ключам словаря"
   ]
  },
  {
   "cell_type": "code",
   "execution_count": null,
   "id": "exciting-vanilla",
   "metadata": {},
   "outputs": [],
   "source": [
    "my_dict = {'a': 'b', 'c': 'd'}\n",
    "\n",
    "# ok-eish\n",
    "for key in my_dict.keys():\n",
    "    print(key)\n",
    "\n",
    "# better\n",
    "for key in my_dict:\n",
    "    print(key)"
   ]
  },
  {
   "cell_type": "markdown",
   "id": "featured-authentication",
   "metadata": {},
   "source": [
    "И ещё можно тоже чуток проще проверять наличие ключа в словаре"
   ]
  },
  {
   "cell_type": "code",
   "execution_count": null,
   "id": "ongoing-cooling",
   "metadata": {},
   "outputs": [],
   "source": [
    "# bad\n",
    "if 'c' in my_dict.keys():\n",
    "    pass\n",
    "    \n",
    "# better\n",
    "if 'c' in my_dict: # keys не нужен, для словарей и так определен оператор in\n",
    "    pass"
   ]
  },
  {
   "cell_type": "markdown",
   "id": "tired-taste",
   "metadata": {},
   "source": [
    "### defaultdict/Counter"
   ]
  },
  {
   "cell_type": "markdown",
   "id": "thermal-given",
   "metadata": {},
   "source": [
    "bad:\n",
    "```python\n",
    "names_counted = {}\n",
    "for name, count in x.items():\n",
    "   if name in names_counted.keys():\n",
    "      names_counted[name] += count\n",
    "   else:\n",
    "       names_counted[name] = count\n",
    "```\n",
    "\n",
    "Better:\n",
    "```python\n",
    "names_counted = defaultdict(int)\n",
    "for name, count in x.items():\n",
    "   names_counted[name] += count\n",
    "```\n",
    "В два раза меньше кода!"
   ]
  },
  {
   "cell_type": "markdown",
   "id": "ethical-yesterday",
   "metadata": {},
   "source": [
    "### Сортировка\n",
    "Факты:\n",
    "1. sorted возвращает всегда новый список\n",
    "2. у sorted есть параметр reverse\n",
    "3. sorted можно передавать не только списки, но и любые итерируемые объекты\n",
    "\n",
    "Используя их, перепишите нижеследующую функцию в одну строчку"
   ]
  },
  {
   "cell_type": "code",
   "execution_count": null,
   "id": "musical-trust",
   "metadata": {},
   "outputs": [],
   "source": [
    "stat = {\n",
    "    'Алиса': 4,\n",
    "    'Артур': 1,\n",
    "    'Даша': 10,\n",
    "    'Ирина': 2,\n",
    "    'Кирилл': 5,\n",
    "}\n",
    "def long_code(stat):\n",
    "    result = []\n",
    "    for name, count in stat.items():\n",
    "        result.append((name, count))\n",
    "    result.sort(key=lambda tup: tup[1])\n",
    "    result.reverse()\n",
    "    return result\n",
    "    \n",
    "def short_code(stat):\n",
    "    pass # напишите вместо этого одну строчку, у меня она получилась < 70 символов длиной\n",
    "\n",
    "print(long_code(stat))\n",
    "print(short_code(stat))\n",
    "assert long_code(stat) == short_code(stat)"
   ]
  },
  {
   "cell_type": "markdown",
   "id": "sized-survey",
   "metadata": {},
   "source": [
    "### Открытие файлов без with"
   ]
  },
  {
   "cell_type": "code",
   "execution_count": null,
   "id": "criminal-uncle",
   "metadata": {},
   "outputs": [],
   "source": [
    "# bad\n",
    "f = open('hw2_stat_common_errors.ipynb')\n",
    "t = f.read()\n",
    "f.close()\n",
    "\n",
    "# bad\n",
    "t = open('hw2_stat_common_errors.ipynb').read() # файл никто не закрыл\n",
    "\n",
    "# good\n",
    "with open('hw2_stat_common_errors.ipynb') as f:\n",
    "    t = f.read()"
   ]
  }
 ],
 "metadata": {
  "kernelspec": {
   "display_name": "Python 3",
   "language": "python",
   "name": "python3"
  },
  "language_info": {
   "codemirror_mode": {
    "name": "ipython",
    "version": 3
   },
   "file_extension": ".py",
   "mimetype": "text/x-python",
   "name": "python",
   "nbconvert_exporter": "python",
   "pygments_lexer": "ipython3",
   "version": "3.8.5"
  }
 },
 "nbformat": 4,
 "nbformat_minor": 5
}
