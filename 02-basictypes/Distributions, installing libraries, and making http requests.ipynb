{
 "cells": [
  {
   "cell_type": "markdown",
   "id": "honey-notebook",
   "metadata": {},
   "source": [
    "# Как поставить python\n",
    "\n",
    "### Через пакетный менеджер или официальный дистрибутив\n",
    "\n",
    "#### Windows\n",
    "https://www.python.org/downloads/windows/\n",
    "\n",
    "https://learn.microsoft.com/ru-ru/windows/python/beginners\n",
    "\n",
    "#### Linux\n",
    "```\n",
    "apt-get install python3.8\n",
    "yum install python3\n",
    "# etc.\n",
    "```\n",
    "Далеко не всегда есть последняя версия.\n",
    "\n",
    "#### MacOS X\n",
    "Можно через brew, или macport, или можно https://www.python.org/downloads/mac-osx/\n",
    "\n",
    "### Miniconda/Anaconda\n",
    "Альтернативный дистрибутив Python'а и пакетный менеджер.\n",
    "Я(@xelez) обычно предпочитаю его, ибо там проще ставить компилируемые пакеты независимо от остальной системы.\n",
    "\n",
    "Anaconda - all included и можно сразу идти учить нейронки. Miniconda - питон, пакетный менеджер ну и всё. \n",
    "https://docs.conda.io/projects/continuumio-conda/en/latest/user-guide/install/index.html\n",
    "https://docs.anaconda.com/anaconda/install/\n",
    "\n",
    "Ставится в домашнюю директорию."
   ]
  },
  {
   "cell_type": "markdown",
   "id": "conditional-proposal",
   "metadata": {},
   "source": [
    "## Виртуальные окружения\n",
    "\n",
    "На линуксе:\n",
    "\n",
    "```\n",
    "python3 -m venv venv\n",
    ". venv/bin/activate\n",
    "```\n",
    "\n",
    "```\n",
    "conda env create -p venv\n",
    ". venv/bin/activate\n",
    "```\n",
    "\n",
    "На Windows:\n",
    "аналогично, у кого Windows - подскажите пожалуйста точные команды чтобы их сюда вписать =)\n"
   ]
  },
  {
   "cell_type": "markdown",
   "id": "published-calgary",
   "metadata": {},
   "source": [
    "## Как ставить питоновские пакеты\n",
    "Если не хотите засорять систему лучше ставить в виртуальное окружение\n",
    "```\n",
    "apt-get install python-requests\n",
    "conda install requests\n",
    "pip install requests\n",
    "```\n",
    "\n",
    "Мы ещё к этому вернёмся, но пока.."
   ]
  },
  {
   "cell_type": "markdown",
   "id": "suffering-pricing",
   "metadata": {},
   "source": [
    "# Making http requests"
   ]
  },
  {
   "cell_type": "code",
   "execution_count": null,
   "id": "executed-politics",
   "metadata": {},
   "outputs": [],
   "source": [
    "# https://requests.readthedocs.io/en/master/\n",
    "import requests"
   ]
  },
  {
   "cell_type": "code",
   "execution_count": null,
   "id": "controlling-lying",
   "metadata": {},
   "outputs": [],
   "source": [
    "resp = requests.get('http://wttr.in/SVX')"
   ]
  },
  {
   "cell_type": "code",
   "execution_count": null,
   "id": "changing-liability",
   "metadata": {},
   "outputs": [],
   "source": [
    "print(resp.text)"
   ]
  },
  {
   "cell_type": "code",
   "execution_count": null,
   "id": "handmade-florence",
   "metadata": {},
   "outputs": [],
   "source": [
    "# standard library, попробуйте заиспользовать в домашке чтобы почувствовать разницу =)\n",
    "from urllib.request import urlopen"
   ]
  },
  {
   "cell_type": "code",
   "execution_count": null,
   "id": "different-forum",
   "metadata": {},
   "outputs": [],
   "source": [
    "# Вполне вероятно requests будущего\n",
    "# !conda install -y httpx\n",
    "import httpx"
   ]
  },
  {
   "cell_type": "code",
   "execution_count": null,
   "id": "noticed-faith",
   "metadata": {},
   "outputs": [],
   "source": []
  }
 ],
 "metadata": {
  "kernelspec": {
   "display_name": "Python 3",
   "language": "python",
   "name": "python3"
  },
  "language_info": {
   "codemirror_mode": {
    "name": "ipython",
    "version": 3
   },
   "file_extension": ".py",
   "mimetype": "text/x-python",
   "name": "python",
   "nbconvert_exporter": "python",
   "pygments_lexer": "ipython3",
   "version": "3.8.5"
  }
 },
 "nbformat": 4,
 "nbformat_minor": 5
}
