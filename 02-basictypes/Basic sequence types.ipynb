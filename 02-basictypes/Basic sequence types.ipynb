{
 "cells": [
  {
   "cell_type": "markdown",
   "id": "billion-forest",
   "metadata": {},
   "source": [
    "# Стандартные типы данных\n",
    "Подробно можно почитать:\n",
    "* https://docs.python.org/3/reference/datamodel.html#the-standard-type-hierarchy\n",
    "* https://docs.python.org/3/library/stdtypes.html#mutable-sequence-types\n",
    "\n",
    "И посмотреть help() чтобы поглядеть методы, которые они определяют.\n",
    "\n",
    "## Строки, bytes, bytearray\n"
   ]
  },
  {
   "cell_type": "code",
   "execution_count": null,
   "id": "driven-dragon",
   "metadata": {},
   "outputs": [],
   "source": [
    "s = 'abracadabra'\n",
    "b = b'some bytes'\n",
    "a = bytearray(b'abacaba') # как bytes, только mutable\n",
    "a[3:4] = b'BATMAN'\n",
    "a"
   ]
  },
  {
   "cell_type": "code",
   "execution_count": null,
   "id": "assisted-logging",
   "metadata": {},
   "outputs": [],
   "source": [
    "# Вопрос на засыпку: какого типа s[5]?"
   ]
  },
  {
   "cell_type": "code",
   "execution_count": null,
   "id": "fc38ef75",
   "metadata": {},
   "outputs": [],
   "source": [
    "print(\"'Байты'.encode('utf-8'):\", 'Байты'.encode('utf-8'))\n",
    "print(\"type('Байты'.encode('utf-8'):\", type('Байты'.encode('utf-8')))\n",
    "print(\"через функцию bytes:\", bytes('bytes', encoding = 'utf-8'))\n",
    "bytes([50, 100, 76, 72, 41]) # все понятно если вывести, например, chr(41)"
   ]
  },
  {
   "cell_type": "markdown",
   "id": "turned-creation",
   "metadata": {},
   "source": [
    "## Списки:"
   ]
  },
  {
   "cell_type": "code",
   "execution_count": null,
   "id": "greek-palestinian",
   "metadata": {},
   "outputs": [],
   "source": [
    "l1 = [1, 2, 3]\n",
    "l2 = [\n",
    "    'a',\n",
    "    'b',\n",
    "    'c', # запятая в конце не считается ошибкой, очень упрощает перестановку элементов в исходниках\n",
    "]\n",
    "l3 = ['a', 1, [False, 'b'],] # могут содержать элементы различных типов... но лучше пожалуйста не надо)"
   ]
  },
  {
   "cell_type": "code",
   "execution_count": null,
   "id": "auburn-antenna",
   "metadata": {},
   "outputs": [],
   "source": [
    "l1[0] = l1 # в целом может содержать даже сам себя\n",
    "l1 # и jupyter даже справляется с этим)"
   ]
  },
  {
   "cell_type": "code",
   "execution_count": null,
   "id": "divine-attendance",
   "metadata": {},
   "outputs": [],
   "source": [
    "l4 = [l2, l2]\n",
    "l2[0] = 'd'\n",
    "print(l4) # как думаете, что будет?"
   ]
  },
  {
   "cell_type": "code",
   "execution_count": null,
   "id": "suburban-bermuda",
   "metadata": {},
   "outputs": [],
   "source": [
    "l4 = [list(l2), list(l2)] # создать по копии списка\n",
    "l4[0][0] = 'a'\n",
    "l4"
   ]
  },
  {
   "cell_type": "code",
   "execution_count": null,
   "id": "5a3a6987",
   "metadata": {},
   "outputs": [],
   "source": [
    "row = [0]*2\n",
    "Matrix = [row]*2\n",
    "Matrix[0][0] = 1\n",
    "Matrix"
   ]
  },
  {
   "cell_type": "code",
   "execution_count": null,
   "id": "portuguese-lying",
   "metadata": {},
   "outputs": [],
   "source": [
    "l1 = [1, 4, 9, 16, 25]\n",
    "l2 = [x**2 for x in range(1,6)]\n",
    "l3 = [1, 4, 10, 1, 1]\n",
    "print(l1 == l2) # по-элементное сравнение\n",
    "print(l1 < l3)  # в лексикографическом порядке"
   ]
  },
  {
   "cell_type": "code",
   "execution_count": null,
   "id": "material-terrace",
   "metadata": {},
   "outputs": [],
   "source": [
    "# help(l1) # - много полезных методов, стоит посмотреть самим"
   ]
  },
  {
   "attachments": {},
   "cell_type": "markdown",
   "id": "dominant-identity",
   "metadata": {},
   "source": [
    "Как они устроены изнутри?\n",
    "[Вот так...](https://github.com/python/cpython/blob/master/Objects/listobject.c)\n",
    "[c объявлением структуры данных](https://github.com/python/cpython/blob/master/Include/cpython/listobject.h)\n",
    "Но об этом поговорим как-нибудь по-позже :D"
   ]
  },
  {
   "cell_type": "markdown",
   "id": "specialized-lawsuit",
   "metadata": {},
   "source": [
    "## Кортежи:"
   ]
  },
  {
   "cell_type": "code",
   "execution_count": null,
   "id": "strange-vocabulary",
   "metadata": {},
   "outputs": [],
   "source": [
    "t = (1,2,3)\n",
    "t[0] = 4\n",
    "a,b,c = t # можно делать вот так"
   ]
  },
  {
   "cell_type": "markdown",
   "id": "seasonal-excitement",
   "metadata": {},
   "source": [
    "## Словари:"
   ]
  },
  {
   "cell_type": "code",
   "execution_count": null,
   "id": "plastic-operation",
   "metadata": {},
   "outputs": [],
   "source": [
    "d1 = {'a': 1, 'b': 2}\n",
    "d2 = dict(a=1, b=2)"
   ]
  },
  {
   "cell_type": "code",
   "execution_count": null,
   "id": "pressing-immigration",
   "metadata": {},
   "outputs": [],
   "source": [
    "d = {x: x**2 for x in range(6)}\n",
    "d[10] = 100\n",
    "del d[0]"
   ]
  },
  {
   "cell_type": "code",
   "execution_count": null,
   "id": "sticky-scout",
   "metadata": {},
   "outputs": [],
   "source": [
    "d.pop(5)"
   ]
  },
  {
   "cell_type": "code",
   "execution_count": null,
   "id": "looking-toilet",
   "metadata": {},
   "outputs": [],
   "source": [
    "d.items()"
   ]
  },
  {
   "cell_type": "code",
   "execution_count": null,
   "id": "amino-tablet",
   "metadata": {},
   "outputs": [],
   "source": [
    "# пройтись по всем элементам:\n",
    "for k,v in d.items():\n",
    "    print(k,v)"
   ]
  },
  {
   "cell_type": "code",
   "execution_count": null,
   "id": "tracked-membrane",
   "metadata": {},
   "outputs": [],
   "source": [
    "d = {x: x**2 for x in range(6)}\n",
    "# Что будет если добавить или удалить ключ пока мы идём по словарю?\n",
    "# А если изменим значение?"
   ]
  },
  {
   "cell_type": "markdown",
   "id": "transparent-column",
   "metadata": {},
   "source": [
    "## Словари и хешируемость"
   ]
  },
  {
   "cell_type": "code",
   "execution_count": null,
   "id": "athletic-soldier",
   "metadata": {},
   "outputs": [],
   "source": [
    "# Что может быть ключами словаря?\n",
    "d[(1,2,3)] = 1\n",
    "d[[1,2,3]] = 2"
   ]
  },
  {
   "cell_type": "code",
   "execution_count": null,
   "id": "appropriate-calcium",
   "metadata": {},
   "outputs": [],
   "source": [
    "hash((1,2,3))"
   ]
  },
  {
   "cell_type": "markdown",
   "id": "dense-sodium",
   "metadata": {},
   "source": [
    "## Множества"
   ]
  },
  {
   "cell_type": "code",
   "execution_count": null,
   "id": "confirmed-detection",
   "metadata": {},
   "outputs": [],
   "source": [
    "s = set() # пустой\n",
    "s = {1,2,3}\n",
    "print(s.union({2,3,4})) # as usual, see help(s) for more"
   ]
  },
  {
   "cell_type": "code",
   "execution_count": null,
   "id": "single-status",
   "metadata": {},
   "outputs": [],
   "source": [
    "hash(s)"
   ]
  },
  {
   "cell_type": "code",
   "execution_count": null,
   "id": "talented-pantyhose",
   "metadata": {},
   "outputs": [],
   "source": [
    "s = frozenset({1,5,6})\n",
    "print(hash(s))\n",
    "s |= {8, 9}\n",
    "print(s)\n",
    "print(hash(s))\n",
    "# Вопрос на засыпку: как так?)"
   ]
  },
  {
   "cell_type": "code",
   "execution_count": null,
   "id": "defensive-portugal",
   "metadata": {},
   "outputs": [],
   "source": []
  }
 ],
 "metadata": {
  "kernelspec": {
   "display_name": "Python 3",
   "language": "python",
   "name": "python3"
  },
  "language_info": {
   "codemirror_mode": {
    "name": "ipython",
    "version": 3
   },
   "file_extension": ".py",
   "mimetype": "text/x-python",
   "name": "python",
   "nbconvert_exporter": "python",
   "pygments_lexer": "ipython3",
   "version": "3.9.9"
  }
 },
 "nbformat": 4,
 "nbformat_minor": 5
}
