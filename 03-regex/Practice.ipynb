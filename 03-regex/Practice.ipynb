{
 "cells": [
  {
   "cell_type": "markdown",
   "id": "saving-tongue",
   "metadata": {},
   "source": [
    "# Regular Expressions\n",
    "* Документация здесь: https://docs.python.org/3/library/re.html\n",
    "* Удобная штука для проверки регулярок:  https://regex101.com/\n",
    "* потренироваться в изучении удобно здесь: https://alf.nu/RegexGolf"
   ]
  },
  {
   "cell_type": "markdown",
   "id": "billion-diversity",
   "metadata": {},
   "source": [
    "### Основы использования в питоне"
   ]
  },
  {
   "cell_type": "code",
   "execution_count": null,
   "id": "medium-owner",
   "metadata": {},
   "outputs": [],
   "source": [
    "import re"
   ]
  },
  {
   "cell_type": "code",
   "execution_count": null,
   "id": "incredible-fault",
   "metadata": {},
   "outputs": [],
   "source": [
    "# raw-строки не экранируют \"/\", начинаются c \"r\"\n",
    "print(\"hello\\tworld\")\n",
    "print(r\"hello\\tworld\")"
   ]
  },
  {
   "cell_type": "code",
   "execution_count": null,
   "id": "destroyed-surprise",
   "metadata": {},
   "outputs": [],
   "source": [
    "simple_re_str = r\"(\\d+)\"\n",
    "simple_re = re.compile(r\"(\\d+)\")"
   ]
  },
  {
   "cell_type": "code",
   "execution_count": null,
   "id": "fixed-penalty",
   "metadata": {},
   "outputs": [],
   "source": [
    "# Делает одно и то же, только первый вариант дополнительно компилирует RE перед поиском\n",
    "re.match(simple_re_str, \"123 ko ko ko\")\n",
    "re.match(simple_re,     \"123 ko ko ko\")\n",
    "simple_re.match(\"123 ko ko ko\")"
   ]
  },
  {
   "cell_type": "code",
   "execution_count": null,
   "id": "intimate-television",
   "metadata": {},
   "outputs": [],
   "source": [
    "# re.match проверяет с начала строки\n",
    "assert re.match(\"\\d+\", \" 123\") is None \n",
    "assert re.match(\"\\d+\", \"123 \") is not None\n",
    "\n",
    "# re.fullmatch проверяет всю строку\n",
    "assert re.fullmatch(\"\\d+\", \"123 \") is None\n",
    "assert re.fullmatch(\"\\d+\", \"123\") is not None\n",
    "\n",
    "# re.search - находит где угодно в строке\n",
    "assert re.search(\"\\d+\", \"bla 123 bla\") is not None"
   ]
  },
  {
   "cell_type": "code",
   "execution_count": null,
   "id": "interracial-break",
   "metadata": {},
   "outputs": [],
   "source": [
    "# объект match:\n",
    "m = re.search(\"(\\d+)\", \"bla 123 bla 456\")"
   ]
  },
  {
   "cell_type": "code",
   "execution_count": null,
   "id": "animal-chrome",
   "metadata": {},
   "outputs": [],
   "source": [
    "assert <your code> == 4"
   ]
  },
  {
   "cell_type": "code",
   "execution_count": null,
   "id": "essential-remark",
   "metadata": {},
   "outputs": [],
   "source": [
    "# фрагмент какого-то файла с одного из ctf'ов =)\n",
    "text='''\n",
    "[qexecute]\n",
    "10.118.101.13 ansible_user=ctfcup ansible_become=true ansible_python_interpreter=/usr/bin/python3\n",
    "10.118.102.13 ansible_user=root ansible_become=true ansible_python_interpreter=/usr/bin/python3\n",
    "10.118.103.13 ansible_user=ctfcup ansible_become=true ansible_python_interpreter=/usr/bin/python3\n",
    "10.118.104.13 ansible_user=ctfcup ansible_become=true ansible_python_interpreter=/usr/bin/python3\n",
    "10.118.105.13 ansible_user=ctfcup ansible_become=true ansible_python_interpreter=/usr/bin/python3\n",
    "10.118.106.13 ansible_user=root ansible_become=true ansible_python_interpreter=/usr/bin/python3\n",
    "10.118.107.13 ansible_user=ctfcup ansible_become=true ansible_python_interpreter=/usr/bin/python3\n",
    "10.118.108.13 ansible_user=ctfcup ansible_become=true ansible_python_interpreter=/usr/bin/python3\n",
    "10.118.109.13 ansible_user=root ansible_become=true ansible_python_interpreter=/usr/bin/python3\n",
    "10.118.110.13 ansible_user=ctfcup ansible_become=true ansible_python_interpreter=/usr/bin/python3\n",
    "'''\n",
    "\n",
    "# Здесь ip адреса не очень аккуратно парсятся,\n",
    "# например 300.1.1.1 не является корректным ip-адресом, но подойдёт по регулярное выражение\n",
    "# Можно делать более аккуратную регулярку, но иногда лучше вытащить всё,\n",
    "# и дополнительно проверить постфактум\n",
    "INVENTORY_ITEM_RE = re.compile(r\"(\\d{1,3}\\.\\d{1,3}\\.\\d{1,3}\\.\\d{1,3})\\s+ansible_user=(\\w+)\")"
   ]
  },
  {
   "cell_type": "code",
   "execution_count": null,
   "id": "historic-joshua",
   "metadata": {},
   "outputs": [],
   "source": [
    "INVENTORY_ITEM_RE.findall(text)"
   ]
  },
  {
   "cell_type": "code",
   "execution_count": null,
   "id": "worthy-indianapolis",
   "metadata": {},
   "outputs": [],
   "source": [
    "machines_with_root = []\n",
    "\n",
    "for match in INVENTORY_ITEM_RE.finditer(text):\n",
    "    assert isinstance(match, re.Match)\n",
    "    # your code here\n",
    "    \n",
    "assert machines_with_root == [\"10.118.102.13\", \"10.118.106.13\", \"10.118.109.13\"]"
   ]
  },
  {
   "cell_type": "code",
   "execution_count": null,
   "id": "proof-database",
   "metadata": {},
   "outputs": [],
   "source": [
    "print(INVENTORY_ITEM_RE.sub(r\"\\1 ssh_user=\\2\", text))"
   ]
  },
  {
   "cell_type": "markdown",
   "id": "experienced-number",
   "metadata": {},
   "source": [
    "# Задание на пару:\n",
    "\n",
    "Не забывайте про https://regex101.com/"
   ]
  },
  {
   "cell_type": "code",
   "execution_count": null,
   "id": "seventh-schedule",
   "metadata": {},
   "outputs": [],
   "source": [
    "# 1. Распознать mac-адрес.\n",
    "# Адрес состоит из 6-ти чисел, записанных в шестнадцатеричной системе счисления от 0 до FF и разделенных символом «:».\n",
    "\n",
    "# 2. Проверить пароль на надёжность: \n",
    "# Пароль считается надежным, если он состоит из 8 или более символов.\n",
    "# Где символом может быть английская буква, цифра и знак подчеркивания.\n",
    "# Пароль должен содержать хотя бы одну заглавную букву, одну маленькую букву и одну цифру. \n",
    "# Подсказка: нужно использовать заглядывание вперёд (?=...)\n",
    "\n",
    "# 3. Найти букву, которая повторяется ровно 10 раз подряд\n",
    "# Подсказка: ссылка на предущую группу скорее всего поможет\n",
    "\n",
    "# 4. Нахождение слова, встречающегося не менее 3-х раз\n",
    "\n",
    "# 5. Выдернуть последнее слово из строки\n",
    "# Подсказка: anchors\n",
    "\n",
    "# 6. Выдернуть строку в двойных кавычках, игнорируя двойные кавычки внутри неё\n",
    "# example: 'before was \"some \"quote\" text\", although...' -> '\"some \"quote\" text\"'\n",
    "# Подсказка: жадность\n",
    "\n",
    "# 7. Парсинг телефонного номера (с кодом)"
   ]
  },
  {
   "cell_type": "markdown",
   "id": "occupational-benjamin",
   "metadata": {},
   "source": [
    "# Почему regex - не всегда хорошая идея\n",
    "\n",
    "* https://blog.codinghorror.com/regex-use-vs-regex-abuse/\n",
    "* https://blog.codinghorror.com/parsing-html-the-cthulhu-way/\n",
    "* http://www.ex-parrot.com/~pdw/Mail-RFC822-Address.html\n",
    "* https://davidcel.is/posts/stop-validating-email-addresses-with-regex/"
   ]
  },
  {
   "cell_type": "markdown",
   "id": "planned-swiss",
   "metadata": {},
   "source": [
    "# Advanced features"
   ]
  },
  {
   "cell_type": "code",
   "execution_count": null,
   "id": "distinct-banks",
   "metadata": {},
   "outputs": [],
   "source": [
    "# re.split (подробнее см. документацию, она классная)\n",
    "text = '''\n",
    "aba\n",
    "ddd\n",
    "\n",
    "dfdfd\n",
    "\n",
    "dfdfd\n",
    "'''\n",
    "lines = re.split(\"\\n+\", text.strip()) # игнорируем пустые строки\n",
    "# Но так ли оно полезно?)"
   ]
  },
  {
   "cell_type": "code",
   "execution_count": null,
   "id": "marked-fence",
   "metadata": {},
   "outputs": [],
   "source": [
    "# Использование функций при заменах\n",
    "\n",
    "def replace_host(match):\n",
    "    ip = match.group(1).split(\".\")\n",
    "    return f'10.118.{int(ip[2])-100}.3'\n",
    "    \n",
    "print(INVENTORY_ITEM_RE.sub(replace_host, text))"
   ]
  },
  {
   "cell_type": "markdown",
   "id": "alive-relative",
   "metadata": {},
   "source": [
    "* Опции, `re.MULTILINE`, `re.DOTALL`, `re.VERBOSE`"
   ]
  },
  {
   "cell_type": "markdown",
   "id": "stainless-fight",
   "metadata": {},
   "source": [
    "* Заглядывание вперёд-назад"
   ]
  },
  {
   "cell_type": "markdown",
   "id": "blessed-writing",
   "metadata": {},
   "source": [
    "* `(?(id/name)yes-pattern|no-pattern)`"
   ]
  },
  {
   "cell_type": "markdown",
   "id": "dramatic-people",
   "metadata": {},
   "source": [
    "* [Объединяем простые регулярные выражения в одно сложное](https://docs.python.org/3/library/re.html#writing-a-tokenizer)"
   ]
  },
  {
   "cell_type": "code",
   "execution_count": null,
   "id": "alternate-surgery",
   "metadata": {},
   "outputs": [],
   "source": []
  }
 ],
 "metadata": {
  "kernelspec": {
   "display_name": "Python 3",
   "language": "python",
   "name": "python3"
  },
  "language_info": {
   "codemirror_mode": {
    "name": "ipython",
    "version": 3
   },
   "file_extension": ".py",
   "mimetype": "text/x-python",
   "name": "python",
   "nbconvert_exporter": "python",
   "pygments_lexer": "ipython3",
   "version": "3.8.5"
  }
 },
 "nbformat": 4,
 "nbformat_minor": 5
}
